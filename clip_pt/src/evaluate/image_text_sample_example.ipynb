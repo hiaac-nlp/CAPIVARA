{
 "cells": [
  {
   "cell_type": "code",
   "execution_count": 48,
   "metadata": {},
   "outputs": [],
   "source": [
    "import webdataset as wds\n",
    "import argparse\n",
    "import torch\n",
    "import torchvision.transforms as T\n",
    "from PIL import Image\n",
    "from collections import Counter\n"
   ]
  },
  {
   "cell_type": "code",
   "execution_count": 50,
   "metadata": {},
   "outputs": [],
   "source": [
    "dataset_path = '/hadatasets/clip_pt/final_webdatasets/cc3m_blip2_augment_translated_sim/{00000..00266}.tar'\n",
    "argument_1 = None # Print only the first argument\n",
    "image = \"True\"\n",
    "print_type = \"segment\"\n",
    "amount = 50\n",
    "no_print = True"
   ]
  },
  {
   "cell_type": "code",
   "execution_count": 51,
   "metadata": {},
   "outputs": [],
   "source": [
    "if image == \"True\":\n",
    "    dataset = wds.WebDataset(dataset_path).decode(\"torchrgb\").to_tuple(\"jpg;png\", \"json\")\n",
    "else:\n",
    "    dataset = wds.WebDataset(dataset_path)"
   ]
  },
  {
   "cell_type": "code",
   "execution_count": null,
   "metadata": {},
   "outputs": [],
   "source": []
  },
  {
   "cell_type": "code",
   "execution_count": 62,
   "metadata": {},
   "outputs": [
    {
     "name": "stdout",
     "output_type": "stream",
     "text": [
      "\n",
      "Total of 0 files\n"
     ]
    }
   ],
   "source": [
    "count = 0\n",
    "transform = T.ToPILImage()\n",
    "if print_type == \"full\":\n",
    "    for data in dataset:\n",
    "        if no_print:\n",
    "            print(data)\n",
    "        if amount != -1 and count >= amount:\n",
    "            break\n",
    "        count+=1\n",
    "else:\n",
    "    for input, output in dataset:\n",
    "        if argument_1:\n",
    "            try:\n",
    "                if no_print:\n",
    "                    print(output[argument_1].decode(\"utf-8\"))\n",
    "            except:\n",
    "                if no_print:\n",
    "                    print(output[argument_1])\n",
    "        else:\n",
    "            if no_print:\n",
    "                count_sim = dict(Counter(output['captions-pt'][2:]))\n",
    "                    img = transform(input)\n",
    "                    img.show()\n",
    "                    print(f\"captions-pt: {output['captions-pt']}\")\n",
    "                    print(f\"generated-captions-pt: {output['generated-captions-pt']}\")\n",
    "                    print(f\"captions-en: {output['captions-en']}\")\n",
    "                    print(f\"generated-captions-en: {output['generated-captions-en']}\")\n",
    "                    print(f\"captions-pt: {output['similarities-pt']}\")\n",
    "        if amount != -1 and count >= amount:\n",
    "            break\n",
    "            count+=1\n",
    "print(\"\")\n",
    "print(\"Total of \" + str(count) + \" files\")"
   ]
  },
  {
   "cell_type": "code",
   "execution_count": null,
   "metadata": {},
   "outputs": [],
   "source": []
  }
 ],
 "metadata": {
  "kernelspec": {
   "display_name": "Python 3",
   "language": "python",
   "name": "python3"
  },
  "language_info": {
   "codemirror_mode": {
    "name": "ipython",
    "version": 3
   },
   "file_extension": ".py",
   "mimetype": "text/x-python",
   "name": "python",
   "nbconvert_exporter": "python",
   "pygments_lexer": "ipython3",
   "version": "3.10.10"
  },
  "orig_nbformat": 4
 },
 "nbformat": 4,
 "nbformat_minor": 2
}
